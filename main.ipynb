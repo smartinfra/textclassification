{
 "metadata": {
  "language_info": {
   "codemirror_mode": {
    "name": "ipython",
    "version": 3
   },
   "file_extension": ".py",
   "mimetype": "text/x-python",
   "name": "python",
   "nbconvert_exporter": "python",
   "pygments_lexer": "ipython3",
   "version": "3.8.8-final"
  },
  "orig_nbformat": 2,
  "kernelspec": {
   "name": "python3",
   "language": "python",
   "display_name": "Python 3"
  },
  "pycharm": {
   "stem_cell": {
    "cell_type": "raw",
    "source": [
     "\n"
    ],
    "metadata": {
     "collapsed": false
    }
   }
  }
 },
 "nbformat": 4,
 "nbformat_minor": 2,
 "cells": [
  {
   "cell_type": "code",
   "execution_count": 2,
   "metadata": {},
   "outputs": [
    {
     "name": "stderr",
     "output_type": "stream",
     "text": [
      "Traceback (most recent call last):\n",
      "  File \"D:\\PycharmProjects\\SIMPLETEXT\\venv\\lib\\site-packages\\konlpy\\tag\\_mecab.py\", line 108, in __init__\n",
      "    self.tagger = Tagger('-d %s' % dicpath)\n",
      "NameError: name 'Tagger' is not defined\n",
      "\n",
      "During handling of the above exception, another exception occurred:\n",
      "\n",
      "Traceback (most recent call last):\n",
      "  File \"train.py\", line 140, in <module>\n",
      "    main(config)\n",
      "  File \"train.py\", line 57, in main\n",
      "    device=config.gpu_id\n",
      "  File \"D:\\PycharmProjects\\SIMPLETEXT\\simple-ntc\\simple_ntc\\data_loader.py\", line 32, in __init__\n",
      "    tokenizer = Mecab()\n",
      "  File \"D:\\PycharmProjects\\SIMPLETEXT\\venv\\lib\\site-packages\\konlpy\\tag\\_mecab.py\", line 113, in __init__\n",
      "    raise Exception('Install MeCab in order to use it: http://konlpy.org/en/latest/install/')\n",
      "Exception: Install MeCab in order to use it: http://konlpy.org/en/latest/install/\n"
     ]
    }
   ],
   "source": [
    "!python train.py --model_fn ./models/abc.pth --train_fn ./data/train_pd.csv --rnn --gpu_id 0"
   ]
  },
  {
   "cell_type": "code",
   "execution_count": 7,
   "metadata": {},
   "outputs": [
    {
     "output_type": "stream",
     "name": "stdout",
     "text": [
      "Python 3.7.6\n"
     ]
    }
   ],
   "source": [
    "!python --version"
   ]
  },
  {
   "cell_type": "code",
   "execution_count": 64,
   "metadata": {},
   "outputs": [
    {
     "output_type": "execute_result",
     "data": {
      "text/plain": [
       "                                               comments  label\n",
       "0     (현재 호텔주인 심정) 아18 난 마른하늘에 날벼락맞고 호텔망하게생겼는데 누군 계속...      0\n",
       "1     ....한국적인 미인의 대표적인 분...너무나 곱고아름다운모습...그모습뒤의 슬픔을...      2\n",
       "2     ...못된 넘들...남의 고통을 즐겼던 넘들..이젠 마땅한 처벌을 받아야지..,그래...      0\n",
       "3                    1,2화 어설펐는데 3,4화 지나서부터는 갈수록 너무 재밌던데      2\n",
       "4     1. 사람 얼굴 손톱으로 긁은것은 인격살해이고2. 동영상이 몰카냐? 메걸리안들 생각...      0\n",
       "...                                                 ...    ...\n",
       "7891                                      힘내세요~ 응원합니다!!      2\n",
       "7892                             힘내세요~~삼가 고인의 명복을 빕니다..      2\n",
       "7893                              힘내세용 ^^ 항상 응원합니닷 ^^ !      2\n",
       "7894  힘내소...연기로 답해요.나도 53살 인데 이런일 저런일 다 있더라구요.인격을 믿습...      2\n",
       "7895                                 힘들면 관뒀어야지 그게 현명한거다      2\n",
       "\n",
       "[7896 rows x 2 columns]"
      ],
      "text/html": "<div>\n<style scoped>\n    .dataframe tbody tr th:only-of-type {\n        vertical-align: middle;\n    }\n\n    .dataframe tbody tr th {\n        vertical-align: top;\n    }\n\n    .dataframe thead th {\n        text-align: right;\n    }\n</style>\n<table border=\"1\" class=\"dataframe\">\n  <thead>\n    <tr style=\"text-align: right;\">\n      <th></th>\n      <th>comments</th>\n      <th>label</th>\n    </tr>\n  </thead>\n  <tbody>\n    <tr>\n      <th>0</th>\n      <td>(현재 호텔주인 심정) 아18 난 마른하늘에 날벼락맞고 호텔망하게생겼는데 누군 계속...</td>\n      <td>0</td>\n    </tr>\n    <tr>\n      <th>1</th>\n      <td>....한국적인 미인의 대표적인 분...너무나 곱고아름다운모습...그모습뒤의 슬픔을...</td>\n      <td>2</td>\n    </tr>\n    <tr>\n      <th>2</th>\n      <td>...못된 넘들...남의 고통을 즐겼던 넘들..이젠 마땅한 처벌을 받아야지..,그래...</td>\n      <td>0</td>\n    </tr>\n    <tr>\n      <th>3</th>\n      <td>1,2화 어설펐는데 3,4화 지나서부터는 갈수록 너무 재밌던데</td>\n      <td>2</td>\n    </tr>\n    <tr>\n      <th>4</th>\n      <td>1. 사람 얼굴 손톱으로 긁은것은 인격살해이고2. 동영상이 몰카냐? 메걸리안들 생각...</td>\n      <td>0</td>\n    </tr>\n    <tr>\n      <th>...</th>\n      <td>...</td>\n      <td>...</td>\n    </tr>\n    <tr>\n      <th>7891</th>\n      <td>힘내세요~ 응원합니다!!</td>\n      <td>2</td>\n    </tr>\n    <tr>\n      <th>7892</th>\n      <td>힘내세요~~삼가 고인의 명복을 빕니다..</td>\n      <td>2</td>\n    </tr>\n    <tr>\n      <th>7893</th>\n      <td>힘내세용 ^^ 항상 응원합니닷 ^^ !</td>\n      <td>2</td>\n    </tr>\n    <tr>\n      <th>7894</th>\n      <td>힘내소...연기로 답해요.나도 53살 인데 이런일 저런일 다 있더라구요.인격을 믿습...</td>\n      <td>2</td>\n    </tr>\n    <tr>\n      <th>7895</th>\n      <td>힘들면 관뒀어야지 그게 현명한거다</td>\n      <td>2</td>\n    </tr>\n  </tbody>\n</table>\n<p>7896 rows × 2 columns</p>\n</div>"
     },
     "metadata": {},
     "execution_count": 64
    }
   ],
   "source": [
    "import pandas as pd\n",
    "train_df = pd.read_csv('./data/train_pd.csv')\n",
    "\n",
    "train_df"
   ]
  },
  {
   "cell_type": "code",
   "execution_count": null,
   "metadata": {},
   "outputs": [],
   "source": []
  }
 ]
}